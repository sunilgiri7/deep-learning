{
 "cells": [
  {
   "cell_type": "markdown",
   "id": "2229eb5f",
   "metadata": {},
   "source": [
    "## Automate Your CV2 tensorflow dnn module"
   ]
  },
  {
   "cell_type": "markdown",
   "id": "1fda9359",
   "metadata": {},
   "source": [
    "### Initilization Function"
   ]
  },
  {
   "cell_type": "code",
   "execution_count": null,
   "id": "cb573002",
   "metadata": {},
   "outputs": [],
   "source": [
    "def init_classify(weight_name='your_model_weight_path', architecture_name='architecture_model_name'):\n",
    "    # Set global variable\n",
    "    global net, classes\n",
    "    \n",
    "    base_path = 'model'\n",
    "    \n",
    "    # read classes\n",
    "    rows = open(os.path.join(base_path, 'classes.txt')).read().strip()(\"\\n\")\n",
    "    \n",
    "    # load and split the class\n",
    "    classes = [r[r.find(\" \") + 1].split(\",\")[0] for r in rows]\n",
    "    \n",
    "    # load the weight and architecture of model\n",
    "    weights = os.path.join(base_path, weight_name)\n",
    "    architecture = os.path.join(base_path, architecture_name)\n",
    "    \n",
    "    # Initilize the model\n",
    "    net = cv2.dnn.readNetFromDarknet(weights, architecture)"
   ]
  },
  {
   "cell_type": "markdown",
   "id": "63304d40",
   "metadata": {},
   "source": [
    "### Classification Function"
   ]
  },
  {
   "cell_type": "code",
   "execution_count": null,
   "id": "96ceeb86",
   "metadata": {},
   "outputs": [],
   "source": [
    "def classify(iamge, returndata=False, size=1,):\n",
    "    blob = cv2.dnn.blobFromImage(image, 1 / 255.0, (416, 416), swapRB=True, crop=False)\n",
    "    \n",
    "    net.setInput(blob)\n",
    "    \n",
    "    output = net.forward()\n",
    "    \n",
    "    new_output = output.reshape(len(output[0][:]))\n",
    "    \n",
    "    # convert the score to class probabilities between 0-1\n",
    "    expanded = np.exp(new_output - np.max(new_output))\n",
    "    prob = expanded / expanded.sum()\n",
    "    \n",
    "    # Get highest probable class\n",
    "    conf = np.max(prob)\n",
    "    \n",
    "    # Index of class with maximum probablity\n",
    "    index = np.argmax(conf)\n",
    "    \n",
    "    # Name of the class with maximum probablity\n",
    "    label = classes[index]\n",
    "    \n",
    "    text = \"Label: {}, {:.2f}\".format(label, conf*100)\n",
    "    \n",
    "    cv2.putText(image, text, (5, size*26), cv.FONT_HARSHEY_COMPLEX, size, (100,20,255), 3)\n",
    "    \n",
    "    if returndata:\n",
    "        return image, text\n",
    "    else:\n",
    "        plt.figure(figsize = (10,10))\n",
    "        plt.imshow(image[:, :,::-1]);plot.axis('off')"
   ]
  },
  {
   "cell_type": "markdown",
   "id": "6e59d8be",
   "metadata": {},
   "source": [
    "### Initilize classifier"
   ]
  },
  {
   "cell_type": "code",
   "execution_count": null,
   "id": "ca6e8bfa",
   "metadata": {},
   "outputs": [],
   "source": [
    "init_classify()"
   ]
  },
  {
   "cell_type": "markdown",
   "id": "0cfc8536",
   "metadata": {},
   "source": [
    "### Classify image using function"
   ]
  },
  {
   "cell_type": "code",
   "execution_count": null,
   "id": "d4b0029e",
   "metadata": {},
   "outputs": [],
   "source": [
    "image = cv2.imread('image-path')\n",
    "classify(image)"
   ]
  },
  {
   "cell_type": "code",
   "execution_count": null,
   "id": "59eba41a",
   "metadata": {},
   "outputs": [],
   "source": []
  },
  {
   "cell_type": "code",
   "execution_count": null,
   "id": "42dc1373",
   "metadata": {},
   "outputs": [],
   "source": []
  }
 ],
 "metadata": {
  "kernelspec": {
   "display_name": "Python 3 (ipykernel)",
   "language": "python",
   "name": "python3"
  },
  "language_info": {
   "codemirror_mode": {
    "name": "ipython",
    "version": 3
   },
   "file_extension": ".py",
   "mimetype": "text/x-python",
   "name": "python",
   "nbconvert_exporter": "python",
   "pygments_lexer": "ipython3",
   "version": "3.10.9"
  }
 },
 "nbformat": 4,
 "nbformat_minor": 5
}
