{
 "cells": [
  {
   "cell_type": "code",
   "execution_count": 8,
   "id": "4b425cf5",
   "metadata": {},
   "outputs": [],
   "source": [
    "import torch.nn as nn"
   ]
  },
  {
   "cell_type": "code",
   "execution_count": 27,
   "id": "874b7ade",
   "metadata": {},
   "outputs": [],
   "source": [
    "class demo:\n",
    "    def __init__(self,name, age):\n",
    "        super().__init__()\n",
    "        self.name = name\n",
    "        self.age = age\n",
    "    def print_me(self):\n",
    "        return f\"my name is {self.name} and i am {self.age} years old\""
   ]
  },
  {
   "cell_type": "code",
   "execution_count": 28,
   "id": "0f29b606",
   "metadata": {},
   "outputs": [],
   "source": [
    "n = demo(\"Sunil\", 21)"
   ]
  },
  {
   "cell_type": "code",
   "execution_count": 29,
   "id": "da329502",
   "metadata": {},
   "outputs": [
    {
     "name": "stdout",
     "output_type": "stream",
     "text": [
      "my name is Sunil and i am 21 years old\n"
     ]
    }
   ],
   "source": [
    "print(n.print_me())"
   ]
  },
  {
   "cell_type": "code",
   "execution_count": 67,
   "id": "ced235f2",
   "metadata": {},
   "outputs": [],
   "source": [
    "import nltk\n",
    "import spacy"
   ]
  },
  {
   "cell_type": "code",
   "execution_count": 64,
   "id": "3e85ea6f",
   "metadata": {},
   "outputs": [],
   "source": [
    "nlp = spacy.load('en_core_web_sm')"
   ]
  },
  {
   "cell_type": "code",
   "execution_count": 68,
   "id": "b50c0060",
   "metadata": {},
   "outputs": [
    {
     "name": "stdout",
     "output_type": "stream",
     "text": [
      "TESLA ORG\n",
      "tesla inc ORG\n"
     ]
    }
   ],
   "source": [
    "doc = nlp('TESLA, tesla inc is going to hello i am sunil giri how are you all')\n",
    "for ent in doc.ents:\n",
    "    print(ent.text, ent.label_)"
   ]
  },
  {
   "cell_type": "code",
   "execution_count": 69,
   "id": "99b4e023",
   "metadata": {},
   "outputs": [
    {
     "data": {
      "text/plain": [
       "(TESLA, tesla inc)"
      ]
     },
     "execution_count": 69,
     "metadata": {},
     "output_type": "execute_result"
    }
   ],
   "source": [
    "doc.ents"
   ]
  },
  {
   "cell_type": "code",
   "execution_count": null,
   "id": "4cffa39f",
   "metadata": {},
   "outputs": [],
   "source": []
  },
  {
   "cell_type": "code",
   "execution_count": null,
   "id": "b34c9311",
   "metadata": {},
   "outputs": [],
   "source": []
  }
 ],
 "metadata": {
  "kernelspec": {
   "display_name": "Python 3 (ipykernel)",
   "language": "python",
   "name": "python3"
  },
  "language_info": {
   "codemirror_mode": {
    "name": "ipython",
    "version": 3
   },
   "file_extension": ".py",
   "mimetype": "text/x-python",
   "name": "python",
   "nbconvert_exporter": "python",
   "pygments_lexer": "ipython3",
   "version": "3.10.9"
  }
 },
 "nbformat": 4,
 "nbformat_minor": 5
}
