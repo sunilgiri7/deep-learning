{
 "cells": [
  {
   "cell_type": "code",
   "execution_count": 1,
   "id": "9a3f3a40",
   "metadata": {},
   "outputs": [],
   "source": [
    "import pandas as pd\n",
    "import numpy as np"
   ]
  },
  {
   "cell_type": "code",
   "execution_count": 2,
   "id": "1015cf58",
   "metadata": {},
   "outputs": [],
   "source": [
    "df = pd.read_csv(\"AABA.csv\")"
   ]
  },
  {
   "cell_type": "code",
   "execution_count": 3,
   "id": "c09e0963",
   "metadata": {},
   "outputs": [
    {
     "data": {
      "text/html": [
       "<div>\n",
       "<style scoped>\n",
       "    .dataframe tbody tr th:only-of-type {\n",
       "        vertical-align: middle;\n",
       "    }\n",
       "\n",
       "    .dataframe tbody tr th {\n",
       "        vertical-align: top;\n",
       "    }\n",
       "\n",
       "    .dataframe thead th {\n",
       "        text-align: right;\n",
       "    }\n",
       "</style>\n",
       "<table border=\"1\" class=\"dataframe\">\n",
       "  <thead>\n",
       "    <tr style=\"text-align: right;\">\n",
       "      <th></th>\n",
       "      <th>Date</th>\n",
       "      <th>Open</th>\n",
       "      <th>High</th>\n",
       "      <th>Low</th>\n",
       "      <th>Close</th>\n",
       "      <th>Volume</th>\n",
       "      <th>Name</th>\n",
       "    </tr>\n",
       "  </thead>\n",
       "  <tbody>\n",
       "    <tr>\n",
       "      <th>0</th>\n",
       "      <td>2006-01-03</td>\n",
       "      <td>39.69</td>\n",
       "      <td>41.22</td>\n",
       "      <td>38.79</td>\n",
       "      <td>40.91</td>\n",
       "      <td>24232729</td>\n",
       "      <td>AABA</td>\n",
       "    </tr>\n",
       "    <tr>\n",
       "      <th>1</th>\n",
       "      <td>2006-01-04</td>\n",
       "      <td>41.22</td>\n",
       "      <td>41.90</td>\n",
       "      <td>40.77</td>\n",
       "      <td>40.97</td>\n",
       "      <td>20553479</td>\n",
       "      <td>AABA</td>\n",
       "    </tr>\n",
       "    <tr>\n",
       "      <th>2</th>\n",
       "      <td>2006-01-05</td>\n",
       "      <td>40.93</td>\n",
       "      <td>41.73</td>\n",
       "      <td>40.85</td>\n",
       "      <td>41.53</td>\n",
       "      <td>12829610</td>\n",
       "      <td>AABA</td>\n",
       "    </tr>\n",
       "    <tr>\n",
       "      <th>3</th>\n",
       "      <td>2006-01-06</td>\n",
       "      <td>42.88</td>\n",
       "      <td>43.57</td>\n",
       "      <td>42.80</td>\n",
       "      <td>43.21</td>\n",
       "      <td>29422828</td>\n",
       "      <td>AABA</td>\n",
       "    </tr>\n",
       "    <tr>\n",
       "      <th>4</th>\n",
       "      <td>2006-01-09</td>\n",
       "      <td>43.10</td>\n",
       "      <td>43.66</td>\n",
       "      <td>42.82</td>\n",
       "      <td>43.42</td>\n",
       "      <td>16268338</td>\n",
       "      <td>AABA</td>\n",
       "    </tr>\n",
       "  </tbody>\n",
       "</table>\n",
       "</div>"
      ],
      "text/plain": [
       "         Date   Open   High    Low  Close    Volume  Name\n",
       "0  2006-01-03  39.69  41.22  38.79  40.91  24232729  AABA\n",
       "1  2006-01-04  41.22  41.90  40.77  40.97  20553479  AABA\n",
       "2  2006-01-05  40.93  41.73  40.85  41.53  12829610  AABA\n",
       "3  2006-01-06  42.88  43.57  42.80  43.21  29422828  AABA\n",
       "4  2006-01-09  43.10  43.66  42.82  43.42  16268338  AABA"
      ]
     },
     "execution_count": 3,
     "metadata": {},
     "output_type": "execute_result"
    }
   ],
   "source": [
    "df.head()"
   ]
  },
  {
   "cell_type": "code",
   "execution_count": 4,
   "id": "70848e33",
   "metadata": {},
   "outputs": [
    {
     "data": {
      "text/plain": [
       "0       40.91\n",
       "1       40.97\n",
       "2       41.53\n",
       "3       43.21\n",
       "4       43.42\n",
       "        ...  \n",
       "3014    71.58\n",
       "3015    69.86\n",
       "3016    70.06\n",
       "3017    69.82\n",
       "3018    69.85\n",
       "Name: Close, Length: 3019, dtype: float64"
      ]
     },
     "execution_count": 4,
     "metadata": {},
     "output_type": "execute_result"
    }
   ],
   "source": [
    "df1 = df.reset_index()['Close']\n",
    "df1"
   ]
  },
  {
   "cell_type": "code",
   "execution_count": 5,
   "id": "cd423151",
   "metadata": {},
   "outputs": [
    {
     "data": {
      "text/plain": [
       "0"
      ]
     },
     "execution_count": 5,
     "metadata": {},
     "output_type": "execute_result"
    }
   ],
   "source": [
    "df1.isnull().sum()"
   ]
  },
  {
   "cell_type": "code",
   "execution_count": 6,
   "id": "e75a2d8a",
   "metadata": {},
   "outputs": [
    {
     "data": {
      "text/plain": [
       "[<matplotlib.lines.Line2D at 0x1e45dfcaa70>]"
      ]
     },
     "execution_count": 6,
     "metadata": {},
     "output_type": "execute_result"
    },
    {
     "data": {
      "image/png": "[encoded data removed]",
      "text/plain": [
       "<Figure size 432x288 with 1 Axes>"
      ]
     },
     "metadata": {
      "needs_background": "light"
     },
     "output_type": "display_data"
    }
   ],
   "source": [
    "import matplotlib.pyplot as plt\n",
    "plt.plot(df1)"
   ]
  },
  {
   "cell_type": "code",
   "execution_count": 7,
   "id": "64d9f0c0",
   "metadata": {},
   "outputs": [],
   "source": [
    "# LSTM are sensitive to scale of data so we scale our  data by MinMaxScaler"
   ]
  },
  {
   "cell_type": "code",
   "execution_count": 8,
   "id": "cc567721",
   "metadata": {},
   "outputs": [],
   "source": [
    "import numpy as np\n",
    "from sklearn.preprocessing import MinMaxScaler\n",
    "scaler = MinMaxScaler(feature_range=(0,1))\n",
    "df1 = scaler.fit_transform(np.array(df1).reshape(-1,1))"
   ]
  },
  {
   "cell_type": "code",
   "execution_count": 9,
   "id": "adab2683",
   "metadata": {},
   "outputs": [
    {
     "data": {
      "text/plain": [
       "(3019, 1)"
      ]
     },
     "execution_count": 9,
     "metadata": {},
     "output_type": "execute_result"
    }
   ],
   "source": [
    "df1.shape"
   ]
  },
  {
   "cell_type": "code",
   "execution_count": 10,
   "id": "612d8d29",
   "metadata": {},
   "outputs": [],
   "source": [
    "from sklearn.model_selection import train_test_split"
   ]
  },
  {
   "cell_type": "code",
   "execution_count": 11,
   "id": "d5e477ed",
   "metadata": {},
   "outputs": [],
   "source": [
    "training_size=int(len(df1)*0.65)\n",
    "test_size=len(df1)-training_size\n",
    "train_size,test_size=df1[0:training_size,:],df1[training_size:len(df1),:1]"
   ]
  },
  {
   "cell_type": "code",
   "execution_count": 12,
   "id": "a25b3b71",
   "metadata": {},
   "outputs": [
    {
     "name": "stdout",
     "output_type": "stream",
     "text": [
      "(1057, 1)\n",
      "(1962, 1)\n"
     ]
    }
   ],
   "source": [
    "print(test_size.shape)\n",
    "print(train_size.shape)"
   ]
  },
  {
   "cell_type": "code",
   "execution_count": 13,
   "id": "4895d465",
   "metadata": {},
   "outputs": [],
   "source": [
    "# Convert an array of values into a dataset matrix\n",
    "import numpy\n",
    "def create_dataset(dataset, time_step=1):\n",
    "    dataX, datay = [], []\n",
    "    for i in range(len(dataset)-time_step-1):\n",
    "        a = dataset[i:(i+time_step),0]\n",
    "        dataX.append(a)\n",
    "        datay.append(dataset[i + time_step,0])\n",
    "    return numpy.array(dataX), numpy.array(datay)"
   ]
  },
  {
   "cell_type": "code",
   "execution_count": 14,
   "id": "38d4f66c",
   "metadata": {},
   "outputs": [],
   "source": [
    "time_step = 100\n",
    "X_train, y_train = create_dataset(train_size, time_step)\n",
    "X_test, y_test =  create_dataset(test_size, time_step)"
   ]
  },
  {
   "cell_type": "code",
   "execution_count": 15,
   "id": "0876f192",
   "metadata": {},
   "outputs": [
    {
     "name": "stdout",
     "output_type": "stream",
     "text": [
      "[[0.4995311  0.5004689  0.50922163 ... 0.34088778 0.35698656 0.37464833]\n",
      " [0.5004689  0.50922163 0.53547984 ... 0.35698656 0.37464833 0.37621132]\n",
      " [0.50922163 0.53547984 0.53876211 ... 0.37464833 0.37621132 0.36026883]\n",
      " ...\n",
      " [0.26680213 0.27164739 0.26758362 ... 0.38949672 0.39387309 0.3915286 ]\n",
      " [0.27164739 0.26758362 0.26351985 ... 0.39387309 0.3915286  0.38183807]\n",
      " [0.26758362 0.26351985 0.27164739 ... 0.3915286  0.38183807 0.37730541]]\n"
     ]
    }
   ],
   "source": [
    "print(X_train)"
   ]
  },
  {
   "cell_type": "code",
   "execution_count": 16,
   "id": "3b6d0b2a",
   "metadata": {},
   "outputs": [
    {
     "name": "stdout",
     "output_type": "stream",
     "text": [
      "(956, 100)\n",
      "(956,)\n"
     ]
    }
   ],
   "source": [
    "print(X_test.shape)\n",
    "print(y_test.shape)"
   ]
  },
  {
   "cell_type": "code",
   "execution_count": 17,
   "id": "522a9b93",
   "metadata": {},
   "outputs": [],
   "source": [
    "X_train = X_train.reshape(X_train.shape[0], X_train.shape[1],1)\n",
    "X_test = X_test.reshape(X_test.shape[0], X_test.shape[1],1)"
   ]
  },
  {
   "cell_type": "code",
   "execution_count": 18,
   "id": "25f59607",
   "metadata": {},
   "outputs": [
    {
     "name": "stdout",
     "output_type": "stream",
     "text": [
      "(1861, 100, 1)\n",
      "(956, 100, 1)\n"
     ]
    }
   ],
   "source": [
    "print(X_train.shape)\n",
    "print(X_test.shape)"
   ]
  },
  {
   "cell_type": "code",
   "execution_count": 19,
   "id": "9b8a9d77",
   "metadata": {},
   "outputs": [],
   "source": [
    "from tensorflow.keras.models import Sequential\n",
    "from tensorflow.keras.layers import Dense, Embedding, LSTM\n",
    "from tensorflow.keras.preprocessing.sequence import pad_sequences\n",
    "from tensorflow.keras.preprocessing.text import one_hot"
   ]
  },
  {
   "cell_type": "code",
   "execution_count": 20,
   "id": "dc93d578",
   "metadata": {},
   "outputs": [],
   "source": [
    "### Stack LSTM model\n",
    "model = Sequential()\n",
    "model.add(LSTM(50, return_sequences=True, input_shape=(100,1)))\n",
    "model.add(LSTM(50, return_sequences=True))\n",
    "model.add(LSTM(50))\n",
    "model.add(Dense(1))\n",
    "model.compile(loss='mean_squared_error', optimizer='adam')"
   ]
  },
  {
   "cell_type": "code",
   "execution_count": 21,
   "id": "87abf171",
   "metadata": {},
   "outputs": [
    {
     "name": "stdout",
     "output_type": "stream",
     "text": [
      "Model: \"sequential\"\n",
      "_________________________________________________________________\n",
      " Layer (type)                Output Shape              Param #   \n",
      "=================================================================\n",
      " lstm (LSTM)                 (None, 100, 50)           10400     \n",
      "                                                                 \n",
      " lstm_1 (LSTM)               (None, 100, 50)           20200     \n",
      "                                                                 \n",
      " lstm_2 (LSTM)               (None, 50)                20200     \n",
      "                                                                 \n",
      " dense (Dense)               (None, 1)                 51        \n",
      "                                                                 \n",
      "=================================================================\n",
      "Total params: 50,851\n",
      "Trainable params: 50,851\n",
      "Non-trainable params: 0\n",
      "_________________________________________________________________\n"
     ]
    }
   ],
   "source": [
    "model.summary()"
   ]
  },
  {
   "cell_type": "code",
   "execution_count": 22,
   "id": "783599c4",
   "metadata": {},
   "outputs": [
    {
     "name": "stdout",
     "output_type": "stream",
     "text": [
      "Epoch 1/50\n",
      "30/30 [==============================] - 22s 399ms/step - loss: 0.0063 - val_loss: 0.0117\n",
      "Epoch 2/50\n",
      "30/30 [==============================] - 9s 287ms/step - loss: 7.3703e-04 - val_loss: 0.0044\n",
      "Epoch 3/50\n",
      "30/30 [==============================] - 9s 288ms/step - loss: 5.1220e-04 - val_loss: 0.0015\n",
      "Epoch 4/50\n",
      "30/30 [==============================] - 9s 297ms/step - loss: 4.6374e-04 - val_loss: 9.7901e-04\n",
      "Epoch 5/50\n",
      "30/30 [==============================] - 9s 300ms/step - loss: 4.5684e-04 - val_loss: 0.0022\n",
      "Epoch 6/50\n",
      "30/30 [==============================] - 9s 300ms/step - loss: 4.8187e-04 - val_loss: 0.0011\n",
      "Epoch 7/50\n",
      "30/30 [==============================] - 9s 301ms/step - loss: 4.9019e-04 - val_loss: 0.0021\n",
      "Epoch 8/50\n",
      "30/30 [==============================] - 9s 301ms/step - loss: 4.1608e-04 - val_loss: 0.0023\n",
      "Epoch 9/50\n",
      "30/30 [==============================] - 9s 305ms/step - loss: 3.9042e-04 - val_loss: 0.0020\n",
      "Epoch 10/50\n",
      "30/30 [==============================] - 9s 300ms/step - loss: 3.7129e-04 - val_loss: 0.0017\n",
      "Epoch 11/50\n",
      "30/30 [==============================] - 9s 303ms/step - loss: 3.5628e-04 - val_loss: 7.3577e-04\n",
      "Epoch 12/50\n",
      "30/30 [==============================] - 9s 303ms/step - loss: 3.7201e-04 - val_loss: 0.0022\n",
      "Epoch 13/50\n",
      "30/30 [==============================] - 9s 306ms/step - loss: 3.6544e-04 - val_loss: 0.0024\n",
      "Epoch 14/50\n",
      "30/30 [==============================] - 9s 302ms/step - loss: 3.3245e-04 - val_loss: 0.0019\n",
      "Epoch 15/50\n",
      "30/30 [==============================] - 9s 305ms/step - loss: 3.4354e-04 - val_loss: 0.0019\n",
      "Epoch 16/50\n",
      "30/30 [==============================] - 9s 311ms/step - loss: 3.1645e-04 - val_loss: 0.0015\n",
      "Epoch 17/50\n",
      "30/30 [==============================] - 9s 304ms/step - loss: 2.9917e-04 - val_loss: 0.0018\n",
      "Epoch 18/50\n",
      "30/30 [==============================] - 9s 304ms/step - loss: 2.9887e-04 - val_loss: 0.0030\n",
      "Epoch 19/50\n",
      "30/30 [==============================] - 9s 303ms/step - loss: 2.9164e-04 - val_loss: 0.0041\n",
      "Epoch 20/50\n",
      "30/30 [==============================] - 9s 307ms/step - loss: 2.6214e-04 - val_loss: 0.0021\n",
      "Epoch 21/50\n",
      "30/30 [==============================] - 9s 300ms/step - loss: 2.5839e-04 - val_loss: 0.0022\n",
      "Epoch 22/50\n",
      "30/30 [==============================] - 9s 307ms/step - loss: 2.5060e-04 - val_loss: 0.0014\n",
      "Epoch 23/50\n",
      "30/30 [==============================] - 9s 305ms/step - loss: 2.4873e-04 - val_loss: 0.0024\n",
      "Epoch 24/50\n",
      "30/30 [==============================] - 9s 297ms/step - loss: 2.3489e-04 - val_loss: 0.0023\n",
      "Epoch 25/50\n",
      "30/30 [==============================] - 9s 307ms/step - loss: 2.1899e-04 - val_loss: 0.0020\n",
      "Epoch 26/50\n",
      "30/30 [==============================] - 9s 296ms/step - loss: 2.1062e-04 - val_loss: 0.0014\n",
      "Epoch 27/50\n",
      "30/30 [==============================] - 9s 303ms/step - loss: 2.0606e-04 - val_loss: 0.0024\n",
      "Epoch 28/50\n",
      "30/30 [==============================] - 9s 303ms/step - loss: 1.9463e-04 - val_loss: 0.0026\n",
      "Epoch 29/50\n",
      "30/30 [==============================] - 9s 306ms/step - loss: 2.0438e-04 - val_loss: 0.0021\n",
      "Epoch 30/50\n",
      "30/30 [==============================] - 9s 304ms/step - loss: 1.9030e-04 - val_loss: 0.0019\n",
      "Epoch 31/50\n",
      "30/30 [==============================] - 9s 304ms/step - loss: 1.8498e-04 - val_loss: 0.0016\n",
      "Epoch 32/50\n",
      "30/30 [==============================] - 9s 304ms/step - loss: 1.7896e-04 - val_loss: 7.6557e-04\n",
      "Epoch 33/50\n",
      "30/30 [==============================] - 9s 304ms/step - loss: 1.7757e-04 - val_loss: 9.8321e-04\n",
      "Epoch 34/50\n",
      "30/30 [==============================] - 9s 310ms/step - loss: 1.8865e-04 - val_loss: 8.0725e-04\n",
      "Epoch 35/50\n",
      "30/30 [==============================] - 9s 306ms/step - loss: 1.7917e-04 - val_loss: 0.0010\n",
      "Epoch 36/50\n",
      "30/30 [==============================] - 9s 305ms/step - loss: 1.6242e-04 - val_loss: 0.0014\n",
      "Epoch 37/50\n",
      "30/30 [==============================] - 9s 312ms/step - loss: 1.5401e-04 - val_loss: 0.0014\n",
      "Epoch 38/50\n",
      "30/30 [==============================] - 9s 308ms/step - loss: 1.5468e-04 - val_loss: 0.0010\n",
      "Epoch 39/50\n",
      "30/30 [==============================] - 9s 306ms/step - loss: 1.5801e-04 - val_loss: 0.0010\n",
      "Epoch 40/50\n",
      "30/30 [==============================] - 9s 304ms/step - loss: 1.5553e-04 - val_loss: 5.8238e-04\n",
      "Epoch 41/50\n",
      "30/30 [==============================] - 9s 304ms/step - loss: 1.4814e-04 - val_loss: 7.4102e-04\n",
      "Epoch 42/50\n",
      "30/30 [==============================] - 9s 302ms/step - loss: 1.5490e-04 - val_loss: 6.3266e-04\n",
      "Epoch 43/50\n",
      "30/30 [==============================] - 9s 306ms/step - loss: 1.7672e-04 - val_loss: 0.0023\n",
      "Epoch 44/50\n",
      "30/30 [==============================] - 9s 303ms/step - loss: 1.4783e-04 - val_loss: 0.0039\n",
      "Epoch 45/50\n",
      "30/30 [==============================] - 9s 304ms/step - loss: 1.6283e-04 - val_loss: 0.0035\n",
      "Epoch 46/50\n",
      "30/30 [==============================] - 9s 301ms/step - loss: 1.6401e-04 - val_loss: 0.0011\n",
      "Epoch 47/50\n",
      "30/30 [==============================] - 9s 306ms/step - loss: 1.3501e-04 - val_loss: 0.0016\n",
      "Epoch 48/50\n",
      "30/30 [==============================] - 9s 304ms/step - loss: 1.3225e-04 - val_loss: 0.0016\n",
      "Epoch 49/50\n",
      "30/30 [==============================] - 9s 305ms/step - loss: 1.2866e-04 - val_loss: 0.0023\n",
      "Epoch 50/50\n",
      "30/30 [==============================] - 9s 308ms/step - loss: 1.3829e-04 - val_loss: 0.0040\n"
     ]
    },
    {
     "data": {
      "text/plain": [
       "<keras.callbacks.History at 0x1e470ab72e0>"
      ]
     },
     "execution_count": 22,
     "metadata": {},
     "output_type": "execute_result"
    }
   ],
   "source": [
    "model.fit(X_train, y_train, validation_data=(X_test, y_test), epochs=50, batch_size=64, verbose=1)"
   ]
  },
  {
   "cell_type": "code",
   "execution_count": 23,
   "id": "3de3a1aa",
   "metadata": {},
   "outputs": [
    {
     "name": "stdout",
     "output_type": "stream",
     "text": [
      "59/59 [==============================] - 7s 61ms/step\n",
      "30/30 [==============================] - 2s 63ms/step\n"
     ]
    }
   ],
   "source": [
    "train_predict = model.predict(X_train)\n",
    "test_predict = model.predict(X_test)"
   ]
  },
  {
   "cell_type": "code",
   "execution_count": 24,
   "id": "40a34882",
   "metadata": {},
   "outputs": [],
   "source": [
    "train_predict = scaler.inverse_transform(train_predict)\n",
    "test_predict = scaler.inverse_transform(test_predict)"
   ]
  },
  {
   "cell_type": "code",
   "execution_count": 25,
   "id": "7b96ad01",
   "metadata": {},
   "outputs": [
    {
     "data": {
      "text/plain": [
       "20.00614748866628"
      ]
     },
     "execution_count": 25,
     "metadata": {},
     "output_type": "execute_result"
    }
   ],
   "source": [
    "import math\n",
    "from sklearn.metrics import mean_squared_error\n",
    "math.sqrt(mean_squared_error(y_train, train_predict))"
   ]
  },
  {
   "cell_type": "code",
   "execution_count": 26,
   "id": "c601138d",
   "metadata": {},
   "outputs": [
    {
     "data": {
      "text/plain": [
       "40.39529325389197"
      ]
     },
     "execution_count": 26,
     "metadata": {},
     "output_type": "execute_result"
    }
   ],
   "source": [
    "math.sqrt(mean_squared_error(y_test, test_predict))"
   ]
  },
  {
   "cell_type": "code",
   "execution_count": 27,
   "id": "be3dc4bd",
   "metadata": {},
   "outputs": [
    {
     "data": {
      "image/png": "[encoded data removed]",
      "text/plain": [
       "<Figure size 432x288 with 1 Axes>"
      ]
     },
     "metadata": {
      "needs_background": "light"
     },
     "output_type": "display_data"
    }
   ],
   "source": [
    "### Plotting \n",
    "# shift train predictions for plotting\n",
    "look_back=100\n",
    "trainPredictPlot = numpy.empty_like(df1)\n",
    "trainPredictPlot[:, :] = np.nan\n",
    "trainPredictPlot[look_back:len(train_predict)+look_back, :] = train_predict\n",
    "# shift test predictions for plotting\n",
    "testPredictPlot = numpy.empty_like(df1)\n",
    "testPredictPlot[:, :] = numpy.nan\n",
    "testPredictPlot[len(train_predict)+(look_back*2)+1:len(df1)-1, :] = test_predict\n",
    "# plot baseline and predictions\n",
    "plt.plot(scaler.inverse_transform(df1))\n",
    "plt.plot(trainPredictPlot)\n",
    "plt.plot(testPredictPlot)\n",
    "plt.show()"
   ]
  },
  {
   "cell_type": "code",
   "execution_count": 29,
   "id": "5ac5bc10",
   "metadata": {},
   "outputs": [
    {
     "data": {
      "text/plain": [
       "956"
      ]
     },
     "execution_count": 29,
     "metadata": {},
     "output_type": "execute_result"
    }
   ],
   "source": [
    "len(y_test)"
   ]
  },
  {
   "cell_type": "code",
   "execution_count": 35,
   "id": "f327c6c9",
   "metadata": {},
   "outputs": [],
   "source": [
    "x_input =y_test[856:].reshape(1,-1)"
   ]
  },
  {
   "cell_type": "code",
   "execution_count": 36,
   "id": "be1bf15b",
   "metadata": {},
   "outputs": [],
   "source": [
    "temp_input = list(input_data)\n",
    "temp_input = temp_input[0].tolist()"
   ]
  },
  {
   "cell_type": "code",
   "execution_count": 37,
   "id": "bc24cd8d",
   "metadata": {},
   "outputs": [
    {
     "name": "stdout",
     "output_type": "stream",
     "text": [
      "[0.7854471]\n",
      "101\n",
      "1 day input [0.79431072 0.76711472 0.76539544 0.78024383 0.7977493  0.80806502\n",
      " 0.83229134 0.84588934 0.85417318 0.88261957 0.88887152 0.88386996\n",
      " 0.86839637 0.85307909 0.84745233 0.86292591 0.86167552 0.86120663\n",
      " 0.85823695 0.84979681 0.86073773 0.85386058 0.8782432  0.88168178\n",
      " 0.89981244 0.89293529 0.89809315 0.90903407 0.91403564 0.9060644\n",
      " 0.90090653 0.91262895 0.87542982 0.86745858 0.88855892 0.88512035\n",
      " 0.89543607 0.89965614 0.91997499 0.91763051 0.9185683  0.92060019\n",
      " 0.93451078 0.93748046 0.94201313 0.92153798 0.91544233 0.92356987\n",
      " 0.90387621 0.91966239 0.91434823 0.91528603 0.89965614 0.90121913\n",
      " 0.88230697 0.88496405 0.91544233 0.93638637 0.95608003 0.96342607\n",
      " 0.96217568 0.95779931 0.98093154 0.98890278 0.9723351  0.95717412\n",
      " 0.96280088 0.95842451 0.94670209 0.9452954  0.96592685 0.97014692\n",
      " 0.98468271 0.99874961 0.99484214 1.         0.9865583  0.98515161\n",
      " 0.9598312  0.95514223 0.95576743 0.92778993 0.92497656 0.94498281\n",
      " 0.95764301 0.97374179 0.97811816 0.95060957 0.9735855  0.94216943\n",
      " 0.95873711 0.95639262 0.95748671 0.96827133 0.97905595 0.97889966\n",
      " 0.95201626 0.95514223 0.95139106 0.78544712]\n",
      "1 day output [[0.68323946]]\n",
      "2 day input [0.76711472 0.76539544 0.78024383 0.7977493  0.80806502 0.83229134\n",
      " 0.84588934 0.85417318 0.88261957 0.88887152 0.88386996 0.86839637\n",
      " 0.85307909 0.84745233 0.86292591 0.86167552 0.86120663 0.85823695\n",
      " 0.84979681 0.86073773 0.85386058 0.8782432  0.88168178 0.89981244\n",
      " 0.89293529 0.89809315 0.90903407 0.91403564 0.9060644  0.90090653\n",
      " 0.91262895 0.87542982 0.86745858 0.88855892 0.88512035 0.89543607\n",
      " 0.89965614 0.91997499 0.91763051 0.9185683  0.92060019 0.93451078\n",
      " 0.93748046 0.94201313 0.92153798 0.91544233 0.92356987 0.90387621\n",
      " 0.91966239 0.91434823 0.91528603 0.89965614 0.90121913 0.88230697\n",
      " 0.88496405 0.91544233 0.93638637 0.95608003 0.96342607 0.96217568\n",
      " 0.95779931 0.98093154 0.98890278 0.9723351  0.95717412 0.96280088\n",
      " 0.95842451 0.94670209 0.9452954  0.96592685 0.97014692 0.98468271\n",
      " 0.99874961 0.99484214 1.         0.9865583  0.98515161 0.9598312\n",
      " 0.95514223 0.95576743 0.92778993 0.92497656 0.94498281 0.95764301\n",
      " 0.97374179 0.97811816 0.95060957 0.9735855  0.94216943 0.95873711\n",
      " 0.95639262 0.95748671 0.96827133 0.97905595 0.97889966 0.95201626\n",
      " 0.95514223 0.95139106 0.78544712 0.68323946]\n",
      "2 day output [[0.5500664]]\n",
      "3 day input [0.76539544 0.78024383 0.7977493  0.80806502 0.83229134 0.84588934\n",
      " 0.85417318 0.88261957 0.88887152 0.88386996 0.86839637 0.85307909\n",
      " 0.84745233 0.86292591 0.86167552 0.86120663 0.85823695 0.84979681\n",
      " 0.86073773 0.85386058 0.8782432  0.88168178 0.89981244 0.89293529\n",
      " 0.89809315 0.90903407 0.91403564 0.9060644  0.90090653 0.91262895\n",
      " 0.87542982 0.86745858 0.88855892 0.88512035 0.89543607 0.89965614\n",
      " 0.91997499 0.91763051 0.9185683  0.92060019 0.93451078 0.93748046\n",
      " 0.94201313 0.92153798 0.91544233 0.92356987 0.90387621 0.91966239\n",
      " 0.91434823 0.91528603 0.89965614 0.90121913 0.88230697 0.88496405\n",
      " 0.91544233 0.93638637 0.95608003 0.96342607 0.96217568 0.95779931\n",
      " 0.98093154 0.98890278 0.9723351  0.95717412 0.96280088 0.95842451\n",
      " 0.94670209 0.9452954  0.96592685 0.97014692 0.98468271 0.99874961\n",
      " 0.99484214 1.         0.9865583  0.98515161 0.9598312  0.95514223\n",
      " 0.95576743 0.92778993 0.92497656 0.94498281 0.95764301 0.97374179\n",
      " 0.97811816 0.95060957 0.9735855  0.94216943 0.95873711 0.95639262\n",
      " 0.95748671 0.96827133 0.97905595 0.97889966 0.95201626 0.95514223\n",
      " 0.95139106 0.78544712 0.68323946 0.55006641]\n",
      "3 day output [[0.42438638]]\n",
      "4 day input [0.78024383 0.7977493  0.80806502 0.83229134 0.84588934 0.85417318\n",
      " 0.88261957 0.88887152 0.88386996 0.86839637 0.85307909 0.84745233\n",
      " 0.86292591 0.86167552 0.86120663 0.85823695 0.84979681 0.86073773\n",
      " 0.85386058 0.8782432  0.88168178 0.89981244 0.89293529 0.89809315\n",
      " 0.90903407 0.91403564 0.9060644  0.90090653 0.91262895 0.87542982\n",
      " 0.86745858 0.88855892 0.88512035 0.89543607 0.89965614 0.91997499\n",
      " 0.91763051 0.9185683  0.92060019 0.93451078 0.93748046 0.94201313\n",
      " 0.92153798 0.91544233 0.92356987 0.90387621 0.91966239 0.91434823\n",
      " 0.91528603 0.89965614 0.90121913 0.88230697 0.88496405 0.91544233\n",
      " 0.93638637 0.95608003 0.96342607 0.96217568 0.95779931 0.98093154\n",
      " 0.98890278 0.9723351  0.95717412 0.96280088 0.95842451 0.94670209\n",
      " 0.9452954  0.96592685 0.97014692 0.98468271 0.99874961 0.99484214\n",
      " 1.         0.9865583  0.98515161 0.9598312  0.95514223 0.95576743\n",
      " 0.92778993 0.92497656 0.94498281 0.95764301 0.97374179 0.97811816\n",
      " 0.95060957 0.9735855  0.94216943 0.95873711 0.95639262 0.95748671\n",
      " 0.96827133 0.97905595 0.97889966 0.95201626 0.95514223 0.95139106\n",
      " 0.78544712 0.68323946 0.55006641 0.42438638]\n",
      "4 day output [[0.31915033]]\n",
      "5 day input [0.7977493  0.80806502 0.83229134 0.84588934 0.85417318 0.88261957\n",
      " 0.88887152 0.88386996 0.86839637 0.85307909 0.84745233 0.86292591\n",
      " 0.86167552 0.86120663 0.85823695 0.84979681 0.86073773 0.85386058\n",
      " 0.8782432  0.88168178 0.89981244 0.89293529 0.89809315 0.90903407\n",
      " 0.91403564 0.9060644  0.90090653 0.91262895 0.87542982 0.86745858\n",
      " 0.88855892 0.88512035 0.89543607 0.89965614 0.91997499 0.91763051\n",
      " 0.9185683  0.92060019 0.93451078 0.93748046 0.94201313 0.92153798\n",
      " 0.91544233 0.92356987 0.90387621 0.91966239 0.91434823 0.91528603\n",
      " 0.89965614 0.90121913 0.88230697 0.88496405 0.91544233 0.93638637\n",
      " 0.95608003 0.96342607 0.96217568 0.95779931 0.98093154 0.98890278\n",
      " 0.9723351  0.95717412 0.96280088 0.95842451 0.94670209 0.9452954\n",
      " 0.96592685 0.97014692 0.98468271 0.99874961 0.99484214 1.\n",
      " 0.9865583  0.98515161 0.9598312  0.95514223 0.95576743 0.92778993\n",
      " 0.92497656 0.94498281 0.95764301 0.97374179 0.97811816 0.95060957\n",
      " 0.9735855  0.94216943 0.95873711 0.95639262 0.95748671 0.96827133\n",
      " 0.97905595 0.97889966 0.95201626 0.95514223 0.95139106 0.78544712\n",
      " 0.68323946 0.55006641 0.42438638 0.31915033]\n",
      "5 day output [[0.23967005]]\n",
      "6 day input [0.80806502 0.83229134 0.84588934 0.85417318 0.88261957 0.88887152\n",
      " 0.88386996 0.86839637 0.85307909 0.84745233 0.86292591 0.86167552\n",
      " 0.86120663 0.85823695 0.84979681 0.86073773 0.85386058 0.8782432\n",
      " 0.88168178 0.89981244 0.89293529 0.89809315 0.90903407 0.91403564\n",
      " 0.9060644  0.90090653 0.91262895 0.87542982 0.86745858 0.88855892\n",
      " 0.88512035 0.89543607 0.89965614 0.91997499 0.91763051 0.9185683\n",
      " 0.92060019 0.93451078 0.93748046 0.94201313 0.92153798 0.91544233\n",
      " 0.92356987 0.90387621 0.91966239 0.91434823 0.91528603 0.89965614\n",
      " 0.90121913 0.88230697 0.88496405 0.91544233 0.93638637 0.95608003\n",
      " 0.96342607 0.96217568 0.95779931 0.98093154 0.98890278 0.9723351\n",
      " 0.95717412 0.96280088 0.95842451 0.94670209 0.9452954  0.96592685\n",
      " 0.97014692 0.98468271 0.99874961 0.99484214 1.         0.9865583\n",
      " 0.98515161 0.9598312  0.95514223 0.95576743 0.92778993 0.92497656\n",
      " 0.94498281 0.95764301 0.97374179 0.97811816 0.95060957 0.9735855\n",
      " 0.94216943 0.95873711 0.95639262 0.95748671 0.96827133 0.97905595\n",
      " 0.97889966 0.95201626 0.95514223 0.95139106 0.78544712 0.68323946\n",
      " 0.55006641 0.42438638 0.31915033 0.23967005]\n",
      "6 day output [[0.18643168]]\n",
      "7 day input [0.83229134 0.84588934 0.85417318 0.88261957 0.88887152 0.88386996\n",
      " 0.86839637 0.85307909 0.84745233 0.86292591 0.86167552 0.86120663\n",
      " 0.85823695 0.84979681 0.86073773 0.85386058 0.8782432  0.88168178\n",
      " 0.89981244 0.89293529 0.89809315 0.90903407 0.91403564 0.9060644\n",
      " 0.90090653 0.91262895 0.87542982 0.86745858 0.88855892 0.88512035\n",
      " 0.89543607 0.89965614 0.91997499 0.91763051 0.9185683  0.92060019\n",
      " 0.93451078 0.93748046 0.94201313 0.92153798 0.91544233 0.92356987\n",
      " 0.90387621 0.91966239 0.91434823 0.91528603 0.89965614 0.90121913\n",
      " 0.88230697 0.88496405 0.91544233 0.93638637 0.95608003 0.96342607\n",
      " 0.96217568 0.95779931 0.98093154 0.98890278 0.9723351  0.95717412\n",
      " 0.96280088 0.95842451 0.94670209 0.9452954  0.96592685 0.97014692\n",
      " 0.98468271 0.99874961 0.99484214 1.         0.9865583  0.98515161\n",
      " 0.9598312  0.95514223 0.95576743 0.92778993 0.92497656 0.94498281\n",
      " 0.95764301 0.97374179 0.97811816 0.95060957 0.9735855  0.94216943\n",
      " 0.95873711 0.95639262 0.95748671 0.96827133 0.97905595 0.97889966\n",
      " 0.95201626 0.95514223 0.95139106 0.78544712 0.68323946 0.55006641\n",
      " 0.42438638 0.31915033 0.23967005 0.18643168]\n",
      "7 day output [[0.1552445]]\n",
      "8 day input [0.84588934 0.85417318 0.88261957 0.88887152 0.88386996 0.86839637\n",
      " 0.85307909 0.84745233 0.86292591 0.86167552 0.86120663 0.85823695\n",
      " 0.84979681 0.86073773 0.85386058 0.8782432  0.88168178 0.89981244\n",
      " 0.89293529 0.89809315 0.90903407 0.91403564 0.9060644  0.90090653\n",
      " 0.91262895 0.87542982 0.86745858 0.88855892 0.88512035 0.89543607\n",
      " 0.89965614 0.91997499 0.91763051 0.9185683  0.92060019 0.93451078\n",
      " 0.93748046 0.94201313 0.92153798 0.91544233 0.92356987 0.90387621\n",
      " 0.91966239 0.91434823 0.91528603 0.89965614 0.90121913 0.88230697\n",
      " 0.88496405 0.91544233 0.93638637 0.95608003 0.96342607 0.96217568\n",
      " 0.95779931 0.98093154 0.98890278 0.9723351  0.95717412 0.96280088\n",
      " 0.95842451 0.94670209 0.9452954  0.96592685 0.97014692 0.98468271\n",
      " 0.99874961 0.99484214 1.         0.9865583  0.98515161 0.9598312\n",
      " 0.95514223 0.95576743 0.92778993 0.92497656 0.94498281 0.95764301\n",
      " 0.97374179 0.97811816 0.95060957 0.9735855  0.94216943 0.95873711\n",
      " 0.95639262 0.95748671 0.96827133 0.97905595 0.97889966 0.95201626\n",
      " 0.95514223 0.95139106 0.78544712 0.68323946 0.55006641 0.42438638\n",
      " 0.31915033 0.23967005 0.18643168 0.1552445 ]\n"
     ]
    },
    {
     "name": "stdout",
     "output_type": "stream",
     "text": [
      "8 day output [[0.13985035]]\n",
      "9 day input [0.85417318 0.88261957 0.88887152 0.88386996 0.86839637 0.85307909\n",
      " 0.84745233 0.86292591 0.86167552 0.86120663 0.85823695 0.84979681\n",
      " 0.86073773 0.85386058 0.8782432  0.88168178 0.89981244 0.89293529\n",
      " 0.89809315 0.90903407 0.91403564 0.9060644  0.90090653 0.91262895\n",
      " 0.87542982 0.86745858 0.88855892 0.88512035 0.89543607 0.89965614\n",
      " 0.91997499 0.91763051 0.9185683  0.92060019 0.93451078 0.93748046\n",
      " 0.94201313 0.92153798 0.91544233 0.92356987 0.90387621 0.91966239\n",
      " 0.91434823 0.91528603 0.89965614 0.90121913 0.88230697 0.88496405\n",
      " 0.91544233 0.93638637 0.95608003 0.96342607 0.96217568 0.95779931\n",
      " 0.98093154 0.98890278 0.9723351  0.95717412 0.96280088 0.95842451\n",
      " 0.94670209 0.9452954  0.96592685 0.97014692 0.98468271 0.99874961\n",
      " 0.99484214 1.         0.9865583  0.98515161 0.9598312  0.95514223\n",
      " 0.95576743 0.92778993 0.92497656 0.94498281 0.95764301 0.97374179\n",
      " 0.97811816 0.95060957 0.9735855  0.94216943 0.95873711 0.95639262\n",
      " 0.95748671 0.96827133 0.97905595 0.97889966 0.95201626 0.95514223\n",
      " 0.95139106 0.78544712 0.68323946 0.55006641 0.42438638 0.31915033\n",
      " 0.23967005 0.18643168 0.1552445  0.13985035]\n",
      "9 day output [[0.1346119]]\n",
      "10 day input [0.88261957 0.88887152 0.88386996 0.86839637 0.85307909 0.84745233\n",
      " 0.86292591 0.86167552 0.86120663 0.85823695 0.84979681 0.86073773\n",
      " 0.85386058 0.8782432  0.88168178 0.89981244 0.89293529 0.89809315\n",
      " 0.90903407 0.91403564 0.9060644  0.90090653 0.91262895 0.87542982\n",
      " 0.86745858 0.88855892 0.88512035 0.89543607 0.89965614 0.91997499\n",
      " 0.91763051 0.9185683  0.92060019 0.93451078 0.93748046 0.94201313\n",
      " 0.92153798 0.91544233 0.92356987 0.90387621 0.91966239 0.91434823\n",
      " 0.91528603 0.89965614 0.90121913 0.88230697 0.88496405 0.91544233\n",
      " 0.93638637 0.95608003 0.96342607 0.96217568 0.95779931 0.98093154\n",
      " 0.98890278 0.9723351  0.95717412 0.96280088 0.95842451 0.94670209\n",
      " 0.9452954  0.96592685 0.97014692 0.98468271 0.99874961 0.99484214\n",
      " 1.         0.9865583  0.98515161 0.9598312  0.95514223 0.95576743\n",
      " 0.92778993 0.92497656 0.94498281 0.95764301 0.97374179 0.97811816\n",
      " 0.95060957 0.9735855  0.94216943 0.95873711 0.95639262 0.95748671\n",
      " 0.96827133 0.97905595 0.97889966 0.95201626 0.95514223 0.95139106\n",
      " 0.78544712 0.68323946 0.55006641 0.42438638 0.31915033 0.23967005\n",
      " 0.18643168 0.1552445  0.13985035 0.1346119 ]\n",
      "10 day output [[0.13548784]]\n",
      "11 day input [0.88887152 0.88386996 0.86839637 0.85307909 0.84745233 0.86292591\n",
      " 0.86167552 0.86120663 0.85823695 0.84979681 0.86073773 0.85386058\n",
      " 0.8782432  0.88168178 0.89981244 0.89293529 0.89809315 0.90903407\n",
      " 0.91403564 0.9060644  0.90090653 0.91262895 0.87542982 0.86745858\n",
      " 0.88855892 0.88512035 0.89543607 0.89965614 0.91997499 0.91763051\n",
      " 0.9185683  0.92060019 0.93451078 0.93748046 0.94201313 0.92153798\n",
      " 0.91544233 0.92356987 0.90387621 0.91966239 0.91434823 0.91528603\n",
      " 0.89965614 0.90121913 0.88230697 0.88496405 0.91544233 0.93638637\n",
      " 0.95608003 0.96342607 0.96217568 0.95779931 0.98093154 0.98890278\n",
      " 0.9723351  0.95717412 0.96280088 0.95842451 0.94670209 0.9452954\n",
      " 0.96592685 0.97014692 0.98468271 0.99874961 0.99484214 1.\n",
      " 0.9865583  0.98515161 0.9598312  0.95514223 0.95576743 0.92778993\n",
      " 0.92497656 0.94498281 0.95764301 0.97374179 0.97811816 0.95060957\n",
      " 0.9735855  0.94216943 0.95873711 0.95639262 0.95748671 0.96827133\n",
      " 0.97905595 0.97889966 0.95201626 0.95514223 0.95139106 0.78544712\n",
      " 0.68323946 0.55006641 0.42438638 0.31915033 0.23967005 0.18643168\n",
      " 0.1552445  0.13985035 0.1346119  0.13548784]\n",
      "11 day output [[0.13982277]]\n",
      "12 day input [0.88386996 0.86839637 0.85307909 0.84745233 0.86292591 0.86167552\n",
      " 0.86120663 0.85823695 0.84979681 0.86073773 0.85386058 0.8782432\n",
      " 0.88168178 0.89981244 0.89293529 0.89809315 0.90903407 0.91403564\n",
      " 0.9060644  0.90090653 0.91262895 0.87542982 0.86745858 0.88855892\n",
      " 0.88512035 0.89543607 0.89965614 0.91997499 0.91763051 0.9185683\n",
      " 0.92060019 0.93451078 0.93748046 0.94201313 0.92153798 0.91544233\n",
      " 0.92356987 0.90387621 0.91966239 0.91434823 0.91528603 0.89965614\n",
      " 0.90121913 0.88230697 0.88496405 0.91544233 0.93638637 0.95608003\n",
      " 0.96342607 0.96217568 0.95779931 0.98093154 0.98890278 0.9723351\n",
      " 0.95717412 0.96280088 0.95842451 0.94670209 0.9452954  0.96592685\n",
      " 0.97014692 0.98468271 0.99874961 0.99484214 1.         0.9865583\n",
      " 0.98515161 0.9598312  0.95514223 0.95576743 0.92778993 0.92497656\n",
      " 0.94498281 0.95764301 0.97374179 0.97811816 0.95060957 0.9735855\n",
      " 0.94216943 0.95873711 0.95639262 0.95748671 0.96827133 0.97905595\n",
      " 0.97889966 0.95201626 0.95514223 0.95139106 0.78544712 0.68323946\n",
      " 0.55006641 0.42438638 0.31915033 0.23967005 0.18643168 0.1552445\n",
      " 0.13985035 0.1346119  0.13548784 0.13982277]\n",
      "12 day output [[0.14586738]]\n",
      "13 day input [0.86839637 0.85307909 0.84745233 0.86292591 0.86167552 0.86120663\n",
      " 0.85823695 0.84979681 0.86073773 0.85386058 0.8782432  0.88168178\n",
      " 0.89981244 0.89293529 0.89809315 0.90903407 0.91403564 0.9060644\n",
      " 0.90090653 0.91262895 0.87542982 0.86745858 0.88855892 0.88512035\n",
      " 0.89543607 0.89965614 0.91997499 0.91763051 0.9185683  0.92060019\n",
      " 0.93451078 0.93748046 0.94201313 0.92153798 0.91544233 0.92356987\n",
      " 0.90387621 0.91966239 0.91434823 0.91528603 0.89965614 0.90121913\n",
      " 0.88230697 0.88496405 0.91544233 0.93638637 0.95608003 0.96342607\n",
      " 0.96217568 0.95779931 0.98093154 0.98890278 0.9723351  0.95717412\n",
      " 0.96280088 0.95842451 0.94670209 0.9452954  0.96592685 0.97014692\n",
      " 0.98468271 0.99874961 0.99484214 1.         0.9865583  0.98515161\n",
      " 0.9598312  0.95514223 0.95576743 0.92778993 0.92497656 0.94498281\n",
      " 0.95764301 0.97374179 0.97811816 0.95060957 0.9735855  0.94216943\n",
      " 0.95873711 0.95639262 0.95748671 0.96827133 0.97905595 0.97889966\n",
      " 0.95201626 0.95514223 0.95139106 0.78544712 0.68323946 0.55006641\n",
      " 0.42438638 0.31915033 0.23967005 0.18643168 0.1552445  0.13985035\n",
      " 0.1346119  0.13548784 0.13982277 0.14586738]\n",
      "13 day output [[0.15241452]]\n",
      "14 day input [0.85307909 0.84745233 0.86292591 0.86167552 0.86120663 0.85823695\n",
      " 0.84979681 0.86073773 0.85386058 0.8782432  0.88168178 0.89981244\n",
      " 0.89293529 0.89809315 0.90903407 0.91403564 0.9060644  0.90090653\n",
      " 0.91262895 0.87542982 0.86745858 0.88855892 0.88512035 0.89543607\n",
      " 0.89965614 0.91997499 0.91763051 0.9185683  0.92060019 0.93451078\n",
      " 0.93748046 0.94201313 0.92153798 0.91544233 0.92356987 0.90387621\n",
      " 0.91966239 0.91434823 0.91528603 0.89965614 0.90121913 0.88230697\n",
      " 0.88496405 0.91544233 0.93638637 0.95608003 0.96342607 0.96217568\n",
      " 0.95779931 0.98093154 0.98890278 0.9723351  0.95717412 0.96280088\n",
      " 0.95842451 0.94670209 0.9452954  0.96592685 0.97014692 0.98468271\n",
      " 0.99874961 0.99484214 1.         0.9865583  0.98515161 0.9598312\n",
      " 0.95514223 0.95576743 0.92778993 0.92497656 0.94498281 0.95764301\n",
      " 0.97374179 0.97811816 0.95060957 0.9735855  0.94216943 0.95873711\n",
      " 0.95639262 0.95748671 0.96827133 0.97905595 0.97889966 0.95201626\n",
      " 0.95514223 0.95139106 0.78544712 0.68323946 0.55006641 0.42438638\n",
      " 0.31915033 0.23967005 0.18643168 0.1552445  0.13985035 0.1346119\n",
      " 0.13548784 0.13982277 0.14586738 0.15241452]\n",
      "14 day output [[0.15859357]]\n",
      "15 day input [0.84745233 0.86292591 0.86167552 0.86120663 0.85823695 0.84979681\n",
      " 0.86073773 0.85386058 0.8782432  0.88168178 0.89981244 0.89293529\n",
      " 0.89809315 0.90903407 0.91403564 0.9060644  0.90090653 0.91262895\n",
      " 0.87542982 0.86745858 0.88855892 0.88512035 0.89543607 0.89965614\n",
      " 0.91997499 0.91763051 0.9185683  0.92060019 0.93451078 0.93748046\n",
      " 0.94201313 0.92153798 0.91544233 0.92356987 0.90387621 0.91966239\n",
      " 0.91434823 0.91528603 0.89965614 0.90121913 0.88230697 0.88496405\n",
      " 0.91544233 0.93638637 0.95608003 0.96342607 0.96217568 0.95779931\n",
      " 0.98093154 0.98890278 0.9723351  0.95717412 0.96280088 0.95842451\n",
      " 0.94670209 0.9452954  0.96592685 0.97014692 0.98468271 0.99874961\n",
      " 0.99484214 1.         0.9865583  0.98515161 0.9598312  0.95514223\n",
      " 0.95576743 0.92778993 0.92497656 0.94498281 0.95764301 0.97374179\n",
      " 0.97811816 0.95060957 0.9735855  0.94216943 0.95873711 0.95639262\n",
      " 0.95748671 0.96827133 0.97905595 0.97889966 0.95201626 0.95514223\n",
      " 0.95139106 0.78544712 0.68323946 0.55006641 0.42438638 0.31915033\n",
      " 0.23967005 0.18643168 0.1552445  0.13985035 0.1346119  0.13548784\n",
      " 0.13982277 0.14586738 0.15241452 0.15859357]\n",
      "15 day output [[0.16377597]]\n",
      "16 day input [0.86292591 0.86167552 0.86120663 0.85823695 0.84979681 0.86073773\n",
      " 0.85386058 0.8782432  0.88168178 0.89981244 0.89293529 0.89809315\n",
      " 0.90903407 0.91403564 0.9060644  0.90090653 0.91262895 0.87542982\n",
      " 0.86745858 0.88855892 0.88512035 0.89543607 0.89965614 0.91997499\n",
      " 0.91763051 0.9185683  0.92060019 0.93451078 0.93748046 0.94201313\n",
      " 0.92153798 0.91544233 0.92356987 0.90387621 0.91966239 0.91434823\n",
      " 0.91528603 0.89965614 0.90121913 0.88230697 0.88496405 0.91544233\n",
      " 0.93638637 0.95608003 0.96342607 0.96217568 0.95779931 0.98093154\n",
      " 0.98890278 0.9723351  0.95717412 0.96280088 0.95842451 0.94670209\n",
      " 0.9452954  0.96592685 0.97014692 0.98468271 0.99874961 0.99484214\n",
      " 1.         0.9865583  0.98515161 0.9598312  0.95514223 0.95576743\n",
      " 0.92778993 0.92497656 0.94498281 0.95764301 0.97374179 0.97811816\n",
      " 0.95060957 0.9735855  0.94216943 0.95873711 0.95639262 0.95748671\n",
      " 0.96827133 0.97905595 0.97889966 0.95201626 0.95514223 0.95139106\n",
      " 0.78544712 0.68323946 0.55006641 0.42438638 0.31915033 0.23967005\n",
      " 0.18643168 0.1552445  0.13985035 0.1346119  0.13548784 0.13982277\n",
      " 0.14586738 0.15241452 0.15859357 0.16377597]\n"
     ]
    },
    {
     "name": "stdout",
     "output_type": "stream",
     "text": [
      "16 day output [[0.16753866]]\n",
      "17 day input [0.86167552 0.86120663 0.85823695 0.84979681 0.86073773 0.85386058\n",
      " 0.8782432  0.88168178 0.89981244 0.89293529 0.89809315 0.90903407\n",
      " 0.91403564 0.9060644  0.90090653 0.91262895 0.87542982 0.86745858\n",
      " 0.88855892 0.88512035 0.89543607 0.89965614 0.91997499 0.91763051\n",
      " 0.9185683  0.92060019 0.93451078 0.93748046 0.94201313 0.92153798\n",
      " 0.91544233 0.92356987 0.90387621 0.91966239 0.91434823 0.91528603\n",
      " 0.89965614 0.90121913 0.88230697 0.88496405 0.91544233 0.93638637\n",
      " 0.95608003 0.96342607 0.96217568 0.95779931 0.98093154 0.98890278\n",
      " 0.9723351  0.95717412 0.96280088 0.95842451 0.94670209 0.9452954\n",
      " 0.96592685 0.97014692 0.98468271 0.99874961 0.99484214 1.\n",
      " 0.9865583  0.98515161 0.9598312  0.95514223 0.95576743 0.92778993\n",
      " 0.92497656 0.94498281 0.95764301 0.97374179 0.97811816 0.95060957\n",
      " 0.9735855  0.94216943 0.95873711 0.95639262 0.95748671 0.96827133\n",
      " 0.97905595 0.97889966 0.95201626 0.95514223 0.95139106 0.78544712\n",
      " 0.68323946 0.55006641 0.42438638 0.31915033 0.23967005 0.18643168\n",
      " 0.1552445  0.13985035 0.1346119  0.13548784 0.13982277 0.14586738\n",
      " 0.15241452 0.15859357 0.16377597 0.16753866]\n",
      "17 day output [[0.16964816]]\n",
      "18 day input [0.86120663 0.85823695 0.84979681 0.86073773 0.85386058 0.8782432\n",
      " 0.88168178 0.89981244 0.89293529 0.89809315 0.90903407 0.91403564\n",
      " 0.9060644  0.90090653 0.91262895 0.87542982 0.86745858 0.88855892\n",
      " 0.88512035 0.89543607 0.89965614 0.91997499 0.91763051 0.9185683\n",
      " 0.92060019 0.93451078 0.93748046 0.94201313 0.92153798 0.91544233\n",
      " 0.92356987 0.90387621 0.91966239 0.91434823 0.91528603 0.89965614\n",
      " 0.90121913 0.88230697 0.88496405 0.91544233 0.93638637 0.95608003\n",
      " 0.96342607 0.96217568 0.95779931 0.98093154 0.98890278 0.9723351\n",
      " 0.95717412 0.96280088 0.95842451 0.94670209 0.9452954  0.96592685\n",
      " 0.97014692 0.98468271 0.99874961 0.99484214 1.         0.9865583\n",
      " 0.98515161 0.9598312  0.95514223 0.95576743 0.92778993 0.92497656\n",
      " 0.94498281 0.95764301 0.97374179 0.97811816 0.95060957 0.9735855\n",
      " 0.94216943 0.95873711 0.95639262 0.95748671 0.96827133 0.97905595\n",
      " 0.97889966 0.95201626 0.95514223 0.95139106 0.78544712 0.68323946\n",
      " 0.55006641 0.42438638 0.31915033 0.23967005 0.18643168 0.1552445\n",
      " 0.13985035 0.1346119  0.13548784 0.13982277 0.14586738 0.15241452\n",
      " 0.15859357 0.16377597 0.16753866 0.16964816]\n",
      "18 day output [[0.17004542]]\n",
      "19 day input [0.85823695 0.84979681 0.86073773 0.85386058 0.8782432  0.88168178\n",
      " 0.89981244 0.89293529 0.89809315 0.90903407 0.91403564 0.9060644\n",
      " 0.90090653 0.91262895 0.87542982 0.86745858 0.88855892 0.88512035\n",
      " 0.89543607 0.89965614 0.91997499 0.91763051 0.9185683  0.92060019\n",
      " 0.93451078 0.93748046 0.94201313 0.92153798 0.91544233 0.92356987\n",
      " 0.90387621 0.91966239 0.91434823 0.91528603 0.89965614 0.90121913\n",
      " 0.88230697 0.88496405 0.91544233 0.93638637 0.95608003 0.96342607\n",
      " 0.96217568 0.95779931 0.98093154 0.98890278 0.9723351  0.95717412\n",
      " 0.96280088 0.95842451 0.94670209 0.9452954  0.96592685 0.97014692\n",
      " 0.98468271 0.99874961 0.99484214 1.         0.9865583  0.98515161\n",
      " 0.9598312  0.95514223 0.95576743 0.92778993 0.92497656 0.94498281\n",
      " 0.95764301 0.97374179 0.97811816 0.95060957 0.9735855  0.94216943\n",
      " 0.95873711 0.95639262 0.95748671 0.96827133 0.97905595 0.97889966\n",
      " 0.95201626 0.95514223 0.95139106 0.78544712 0.68323946 0.55006641\n",
      " 0.42438638 0.31915033 0.23967005 0.18643168 0.1552445  0.13985035\n",
      " 0.1346119  0.13548784 0.13982277 0.14586738 0.15241452 0.15859357\n",
      " 0.16377597 0.16753866 0.16964816 0.17004542]\n",
      "19 day output [[0.16882265]]\n",
      "20 day input [0.84979681 0.86073773 0.85386058 0.8782432  0.88168178 0.89981244\n",
      " 0.89293529 0.89809315 0.90903407 0.91403564 0.9060644  0.90090653\n",
      " 0.91262895 0.87542982 0.86745858 0.88855892 0.88512035 0.89543607\n",
      " 0.89965614 0.91997499 0.91763051 0.9185683  0.92060019 0.93451078\n",
      " 0.93748046 0.94201313 0.92153798 0.91544233 0.92356987 0.90387621\n",
      " 0.91966239 0.91434823 0.91528603 0.89965614 0.90121913 0.88230697\n",
      " 0.88496405 0.91544233 0.93638637 0.95608003 0.96342607 0.96217568\n",
      " 0.95779931 0.98093154 0.98890278 0.9723351  0.95717412 0.96280088\n",
      " 0.95842451 0.94670209 0.9452954  0.96592685 0.97014692 0.98468271\n",
      " 0.99874961 0.99484214 1.         0.9865583  0.98515161 0.9598312\n",
      " 0.95514223 0.95576743 0.92778993 0.92497656 0.94498281 0.95764301\n",
      " 0.97374179 0.97811816 0.95060957 0.9735855  0.94216943 0.95873711\n",
      " 0.95639262 0.95748671 0.96827133 0.97905595 0.97889966 0.95201626\n",
      " 0.95514223 0.95139106 0.78544712 0.68323946 0.55006641 0.42438638\n",
      " 0.31915033 0.23967005 0.18643168 0.1552445  0.13985035 0.1346119\n",
      " 0.13548784 0.13982277 0.14586738 0.15241452 0.15859357 0.16377597\n",
      " 0.16753866 0.16964816 0.17004542 0.16882265]\n",
      "20 day output [[0.1661903]]\n",
      "21 day input [0.86073773 0.85386058 0.8782432  0.88168178 0.89981244 0.89293529\n",
      " 0.89809315 0.90903407 0.91403564 0.9060644  0.90090653 0.91262895\n",
      " 0.87542982 0.86745858 0.88855892 0.88512035 0.89543607 0.89965614\n",
      " 0.91997499 0.91763051 0.9185683  0.92060019 0.93451078 0.93748046\n",
      " 0.94201313 0.92153798 0.91544233 0.92356987 0.90387621 0.91966239\n",
      " 0.91434823 0.91528603 0.89965614 0.90121913 0.88230697 0.88496405\n",
      " 0.91544233 0.93638637 0.95608003 0.96342607 0.96217568 0.95779931\n",
      " 0.98093154 0.98890278 0.9723351  0.95717412 0.96280088 0.95842451\n",
      " 0.94670209 0.9452954  0.96592685 0.97014692 0.98468271 0.99874961\n",
      " 0.99484214 1.         0.9865583  0.98515161 0.9598312  0.95514223\n",
      " 0.95576743 0.92778993 0.92497656 0.94498281 0.95764301 0.97374179\n",
      " 0.97811816 0.95060957 0.9735855  0.94216943 0.95873711 0.95639262\n",
      " 0.95748671 0.96827133 0.97905595 0.97889966 0.95201626 0.95514223\n",
      " 0.95139106 0.78544712 0.68323946 0.55006641 0.42438638 0.31915033\n",
      " 0.23967005 0.18643168 0.1552445  0.13985035 0.1346119  0.13548784\n",
      " 0.13982277 0.14586738 0.15241452 0.15859357 0.16377597 0.16753866\n",
      " 0.16964816 0.17004542 0.16882265 0.1661903 ]\n",
      "21 day output [[0.16243659]]\n",
      "22 day input [0.85386058 0.8782432  0.88168178 0.89981244 0.89293529 0.89809315\n",
      " 0.90903407 0.91403564 0.9060644  0.90090653 0.91262895 0.87542982\n",
      " 0.86745858 0.88855892 0.88512035 0.89543607 0.89965614 0.91997499\n",
      " 0.91763051 0.9185683  0.92060019 0.93451078 0.93748046 0.94201313\n",
      " 0.92153798 0.91544233 0.92356987 0.90387621 0.91966239 0.91434823\n",
      " 0.91528603 0.89965614 0.90121913 0.88230697 0.88496405 0.91544233\n",
      " 0.93638637 0.95608003 0.96342607 0.96217568 0.95779931 0.98093154\n",
      " 0.98890278 0.9723351  0.95717412 0.96280088 0.95842451 0.94670209\n",
      " 0.9452954  0.96592685 0.97014692 0.98468271 0.99874961 0.99484214\n",
      " 1.         0.9865583  0.98515161 0.9598312  0.95514223 0.95576743\n",
      " 0.92778993 0.92497656 0.94498281 0.95764301 0.97374179 0.97811816\n",
      " 0.95060957 0.9735855  0.94216943 0.95873711 0.95639262 0.95748671\n",
      " 0.96827133 0.97905595 0.97889966 0.95201626 0.95514223 0.95139106\n",
      " 0.78544712 0.68323946 0.55006641 0.42438638 0.31915033 0.23967005\n",
      " 0.18643168 0.1552445  0.13985035 0.1346119  0.13548784 0.13982277\n",
      " 0.14586738 0.15241452 0.15859357 0.16377597 0.16753866 0.16964816\n",
      " 0.17004542 0.16882265 0.1661903  0.16243659]\n",
      "22 day output [[0.15788586]]\n",
      "23 day input [0.8782432  0.88168178 0.89981244 0.89293529 0.89809315 0.90903407\n",
      " 0.91403564 0.9060644  0.90090653 0.91262895 0.87542982 0.86745858\n",
      " 0.88855892 0.88512035 0.89543607 0.89965614 0.91997499 0.91763051\n",
      " 0.9185683  0.92060019 0.93451078 0.93748046 0.94201313 0.92153798\n",
      " 0.91544233 0.92356987 0.90387621 0.91966239 0.91434823 0.91528603\n",
      " 0.89965614 0.90121913 0.88230697 0.88496405 0.91544233 0.93638637\n",
      " 0.95608003 0.96342607 0.96217568 0.95779931 0.98093154 0.98890278\n",
      " 0.9723351  0.95717412 0.96280088 0.95842451 0.94670209 0.9452954\n",
      " 0.96592685 0.97014692 0.98468271 0.99874961 0.99484214 1.\n",
      " 0.9865583  0.98515161 0.9598312  0.95514223 0.95576743 0.92778993\n",
      " 0.92497656 0.94498281 0.95764301 0.97374179 0.97811816 0.95060957\n",
      " 0.9735855  0.94216943 0.95873711 0.95639262 0.95748671 0.96827133\n",
      " 0.97905595 0.97889966 0.95201626 0.95514223 0.95139106 0.78544712\n",
      " 0.68323946 0.55006641 0.42438638 0.31915033 0.23967005 0.18643168\n",
      " 0.1552445  0.13985035 0.1346119  0.13548784 0.13982277 0.14586738\n",
      " 0.15241452 0.15859357 0.16377597 0.16753866 0.16964816 0.17004542\n",
      " 0.16882265 0.1661903  0.16243659 0.15788586]\n",
      "23 day output [[0.15285993]]\n",
      "24 day input [0.88168178 0.89981244 0.89293529 0.89809315 0.90903407 0.91403564\n",
      " 0.9060644  0.90090653 0.91262895 0.87542982 0.86745858 0.88855892\n",
      " 0.88512035 0.89543607 0.89965614 0.91997499 0.91763051 0.9185683\n",
      " 0.92060019 0.93451078 0.93748046 0.94201313 0.92153798 0.91544233\n",
      " 0.92356987 0.90387621 0.91966239 0.91434823 0.91528603 0.89965614\n",
      " 0.90121913 0.88230697 0.88496405 0.91544233 0.93638637 0.95608003\n",
      " 0.96342607 0.96217568 0.95779931 0.98093154 0.98890278 0.9723351\n",
      " 0.95717412 0.96280088 0.95842451 0.94670209 0.9452954  0.96592685\n",
      " 0.97014692 0.98468271 0.99874961 0.99484214 1.         0.9865583\n",
      " 0.98515161 0.9598312  0.95514223 0.95576743 0.92778993 0.92497656\n",
      " 0.94498281 0.95764301 0.97374179 0.97811816 0.95060957 0.9735855\n",
      " 0.94216943 0.95873711 0.95639262 0.95748671 0.96827133 0.97905595\n",
      " 0.97889966 0.95201626 0.95514223 0.95139106 0.78544712 0.68323946\n",
      " 0.55006641 0.42438638 0.31915033 0.23967005 0.18643168 0.1552445\n",
      " 0.13985035 0.1346119  0.13548784 0.13982277 0.14586738 0.15241452\n",
      " 0.15859357 0.16377597 0.16753866 0.16964816 0.17004542 0.16882265\n",
      " 0.1661903  0.16243659 0.15788586 0.15285993]\n"
     ]
    },
    {
     "name": "stdout",
     "output_type": "stream",
     "text": [
      "24 day output [[0.14764775]]\n",
      "25 day input [0.89981244 0.89293529 0.89809315 0.90903407 0.91403564 0.9060644\n",
      " 0.90090653 0.91262895 0.87542982 0.86745858 0.88855892 0.88512035\n",
      " 0.89543607 0.89965614 0.91997499 0.91763051 0.9185683  0.92060019\n",
      " 0.93451078 0.93748046 0.94201313 0.92153798 0.91544233 0.92356987\n",
      " 0.90387621 0.91966239 0.91434823 0.91528603 0.89965614 0.90121913\n",
      " 0.88230697 0.88496405 0.91544233 0.93638637 0.95608003 0.96342607\n",
      " 0.96217568 0.95779931 0.98093154 0.98890278 0.9723351  0.95717412\n",
      " 0.96280088 0.95842451 0.94670209 0.9452954  0.96592685 0.97014692\n",
      " 0.98468271 0.99874961 0.99484214 1.         0.9865583  0.98515161\n",
      " 0.9598312  0.95514223 0.95576743 0.92778993 0.92497656 0.94498281\n",
      " 0.95764301 0.97374179 0.97811816 0.95060957 0.9735855  0.94216943\n",
      " 0.95873711 0.95639262 0.95748671 0.96827133 0.97905595 0.97889966\n",
      " 0.95201626 0.95514223 0.95139106 0.78544712 0.68323946 0.55006641\n",
      " 0.42438638 0.31915033 0.23967005 0.18643168 0.1552445  0.13985035\n",
      " 0.1346119  0.13548784 0.13982277 0.14586738 0.15241452 0.15859357\n",
      " 0.16377597 0.16753866 0.16964816 0.17004542 0.16882265 0.1661903\n",
      " 0.16243659 0.15788586 0.15285993 0.14764775]\n",
      "25 day output [[0.14248553]]\n",
      "26 day input [0.89293529 0.89809315 0.90903407 0.91403564 0.9060644  0.90090653\n",
      " 0.91262895 0.87542982 0.86745858 0.88855892 0.88512035 0.89543607\n",
      " 0.89965614 0.91997499 0.91763051 0.9185683  0.92060019 0.93451078\n",
      " 0.93748046 0.94201313 0.92153798 0.91544233 0.92356987 0.90387621\n",
      " 0.91966239 0.91434823 0.91528603 0.89965614 0.90121913 0.88230697\n",
      " 0.88496405 0.91544233 0.93638637 0.95608003 0.96342607 0.96217568\n",
      " 0.95779931 0.98093154 0.98890278 0.9723351  0.95717412 0.96280088\n",
      " 0.95842451 0.94670209 0.9452954  0.96592685 0.97014692 0.98468271\n",
      " 0.99874961 0.99484214 1.         0.9865583  0.98515161 0.9598312\n",
      " 0.95514223 0.95576743 0.92778993 0.92497656 0.94498281 0.95764301\n",
      " 0.97374179 0.97811816 0.95060957 0.9735855  0.94216943 0.95873711\n",
      " 0.95639262 0.95748671 0.96827133 0.97905595 0.97889966 0.95201626\n",
      " 0.95514223 0.95139106 0.78544712 0.68323946 0.55006641 0.42438638\n",
      " 0.31915033 0.23967005 0.18643168 0.1552445  0.13985035 0.1346119\n",
      " 0.13548784 0.13982277 0.14586738 0.15241452 0.15859357 0.16377597\n",
      " 0.16753866 0.16964816 0.17004542 0.16882265 0.1661903  0.16243659\n",
      " 0.15788586 0.15285993 0.14764775 0.14248553]\n",
      "26 day output [[0.13754779]]\n",
      "27 day input [0.89809315 0.90903407 0.91403564 0.9060644  0.90090653 0.91262895\n",
      " 0.87542982 0.86745858 0.88855892 0.88512035 0.89543607 0.89965614\n",
      " 0.91997499 0.91763051 0.9185683  0.92060019 0.93451078 0.93748046\n",
      " 0.94201313 0.92153798 0.91544233 0.92356987 0.90387621 0.91966239\n",
      " 0.91434823 0.91528603 0.89965614 0.90121913 0.88230697 0.88496405\n",
      " 0.91544233 0.93638637 0.95608003 0.96342607 0.96217568 0.95779931\n",
      " 0.98093154 0.98890278 0.9723351  0.95717412 0.96280088 0.95842451\n",
      " 0.94670209 0.9452954  0.96592685 0.97014692 0.98468271 0.99874961\n",
      " 0.99484214 1.         0.9865583  0.98515161 0.9598312  0.95514223\n",
      " 0.95576743 0.92778993 0.92497656 0.94498281 0.95764301 0.97374179\n",
      " 0.97811816 0.95060957 0.9735855  0.94216943 0.95873711 0.95639262\n",
      " 0.95748671 0.96827133 0.97905595 0.97889966 0.95201626 0.95514223\n",
      " 0.95139106 0.78544712 0.68323946 0.55006641 0.42438638 0.31915033\n",
      " 0.23967005 0.18643168 0.1552445  0.13985035 0.1346119  0.13548784\n",
      " 0.13982277 0.14586738 0.15241452 0.15859357 0.16377597 0.16753866\n",
      " 0.16964816 0.17004542 0.16882265 0.1661903  0.16243659 0.15788586\n",
      " 0.15285993 0.14764775 0.14248553 0.13754779]\n",
      "27 day output [[0.132948]]\n",
      "28 day input [0.90903407 0.91403564 0.9060644  0.90090653 0.91262895 0.87542982\n",
      " 0.86745858 0.88855892 0.88512035 0.89543607 0.89965614 0.91997499\n",
      " 0.91763051 0.9185683  0.92060019 0.93451078 0.93748046 0.94201313\n",
      " 0.92153798 0.91544233 0.92356987 0.90387621 0.91966239 0.91434823\n",
      " 0.91528603 0.89965614 0.90121913 0.88230697 0.88496405 0.91544233\n",
      " 0.93638637 0.95608003 0.96342607 0.96217568 0.95779931 0.98093154\n",
      " 0.98890278 0.9723351  0.95717412 0.96280088 0.95842451 0.94670209\n",
      " 0.9452954  0.96592685 0.97014692 0.98468271 0.99874961 0.99484214\n",
      " 1.         0.9865583  0.98515161 0.9598312  0.95514223 0.95576743\n",
      " 0.92778993 0.92497656 0.94498281 0.95764301 0.97374179 0.97811816\n",
      " 0.95060957 0.9735855  0.94216943 0.95873711 0.95639262 0.95748671\n",
      " 0.96827133 0.97905595 0.97889966 0.95201626 0.95514223 0.95139106\n",
      " 0.78544712 0.68323946 0.55006641 0.42438638 0.31915033 0.23967005\n",
      " 0.18643168 0.1552445  0.13985035 0.1346119  0.13548784 0.13982277\n",
      " 0.14586738 0.15241452 0.15859357 0.16377597 0.16753866 0.16964816\n",
      " 0.17004542 0.16882265 0.1661903  0.16243659 0.15788586 0.15285993\n",
      " 0.14764775 0.14248553 0.13754779 0.132948  ]\n",
      "28 day output [[0.12874533]]\n",
      "29 day input [0.91403564 0.9060644  0.90090653 0.91262895 0.87542982 0.86745858\n",
      " 0.88855892 0.88512035 0.89543607 0.89965614 0.91997499 0.91763051\n",
      " 0.9185683  0.92060019 0.93451078 0.93748046 0.94201313 0.92153798\n",
      " 0.91544233 0.92356987 0.90387621 0.91966239 0.91434823 0.91528603\n",
      " 0.89965614 0.90121913 0.88230697 0.88496405 0.91544233 0.93638637\n",
      " 0.95608003 0.96342607 0.96217568 0.95779931 0.98093154 0.98890278\n",
      " 0.9723351  0.95717412 0.96280088 0.95842451 0.94670209 0.9452954\n",
      " 0.96592685 0.97014692 0.98468271 0.99874961 0.99484214 1.\n",
      " 0.9865583  0.98515161 0.9598312  0.95514223 0.95576743 0.92778993\n",
      " 0.92497656 0.94498281 0.95764301 0.97374179 0.97811816 0.95060957\n",
      " 0.9735855  0.94216943 0.95873711 0.95639262 0.95748671 0.96827133\n",
      " 0.97905595 0.97889966 0.95201626 0.95514223 0.95139106 0.78544712\n",
      " 0.68323946 0.55006641 0.42438638 0.31915033 0.23967005 0.18643168\n",
      " 0.1552445  0.13985035 0.1346119  0.13548784 0.13982277 0.14586738\n",
      " 0.15241452 0.15859357 0.16377597 0.16753866 0.16964816 0.17004542\n",
      " 0.16882265 0.1661903  0.16243659 0.15788586 0.15285993 0.14764775\n",
      " 0.14248553 0.13754779 0.132948   0.12874533]\n",
      "29 day output [[0.12495555]]\n",
      "[[0.7854471206665039], [0.6832394599914551], [0.5500664114952087], [0.4243863821029663], [0.31915032863616943], [0.2396700531244278], [0.1864316761493683], [0.15524449944496155], [0.13985034823417664], [0.13461190462112427], [0.13548783957958221], [0.13982276618480682], [0.14586737751960754], [0.15241451561450958], [0.1585935652256012], [0.1637759655714035], [0.16753865778446198], [0.1696481555700302], [0.1700454205274582], [0.16882264614105225], [0.16619029641151428], [0.1624365895986557], [0.1578858643770218], [0.15285992622375488], [0.14764775335788727], [0.14248552918434143], [0.1375477910041809], [0.13294799625873566], [0.12874533236026764], [0.12495554983615875]]\n"
     ]
    }
   ],
   "source": [
    "# demonstrate prediction for next 10 days\n",
    "from numpy import array\n",
    "\n",
    "lst_output=[]\n",
    "n_steps=100\n",
    "i=0\n",
    "while(i<30):\n",
    "    \n",
    "    if(len(temp_input)>100):\n",
    "        #print(temp_input)\n",
    "        x_input=np.array(temp_input[1:])\n",
    "        print(\"{} day input {}\".format(i,x_input))\n",
    "        x_input=x_input.reshape(1,-1)\n",
    "        x_input = x_input.reshape((1, n_steps, 1))\n",
    "        #print(x_input)\n",
    "        yhat = model.predict(x_input, verbose=0)\n",
    "        print(\"{} day output {}\".format(i,yhat))\n",
    "        temp_input.extend(yhat[0].tolist())\n",
    "        temp_input=temp_input[1:]\n",
    "        #print(temp_input)\n",
    "        lst_output.extend(yhat.tolist())\n",
    "        i=i+1\n",
    "    else:\n",
    "        x_input = x_input.reshape((1, n_steps,1))\n",
    "        yhat = model.predict(x_input, verbose=0)\n",
    "        print(yhat[0])\n",
    "        temp_input.extend(yhat[0].tolist())\n",
    "        print(len(temp_input))\n",
    "        lst_output.extend(yhat.tolist())\n",
    "        i=i+1\n",
    "    \n",
    "\n",
    "print(lst_output)\n"
   ]
  },
  {
   "cell_type": "code",
   "execution_count": 39,
   "id": "5b085ac9",
   "metadata": {},
   "outputs": [],
   "source": [
    "day_new=np.arange(1,101)\n",
    "day_pred=np.arange(101,131)"
   ]
  },
  {
   "cell_type": "code",
   "execution_count": 40,
   "id": "e48fd757",
   "metadata": {},
   "outputs": [],
   "source": [
    "import matplotlib.pyplot as plt"
   ]
  },
  {
   "cell_type": "code",
   "execution_count": 42,
   "id": "f170da97",
   "metadata": {},
   "outputs": [],
   "source": [
    "df3 = df1.tolist()\n",
    "df3.extend(lst_output)"
   ]
  },
  {
   "cell_type": "code",
   "execution_count": 44,
   "id": "d9ab9115",
   "metadata": {},
   "outputs": [
    {
     "data": {
      "text/plain": [
       "3019"
      ]
     },
     "execution_count": 44,
     "metadata": {},
     "output_type": "execute_result"
    }
   ],
   "source": [
    "len(df1)"
   ]
  },
  {
   "cell_type": "code",
   "execution_count": 47,
   "id": "a464ebfb",
   "metadata": {},
   "outputs": [
    {
     "data": {
      "text/plain": [
       "[<matplotlib.lines.Line2D at 0x1e402339570>]"
      ]
     },
     "execution_count": 47,
     "metadata": {},
     "output_type": "execute_result"
    },
    {
     "data": {
      "image/png": "[encoded data removed]",
      "text/plain": [
       "<Figure size 432x288 with 1 Axes>"
      ]
     },
     "metadata": {
      "needs_background": "light"
     },
     "output_type": "display_data"
    }
   ],
   "source": [
    "plt.plot(day_new,scaler.inverse_transform(df1[2919:]))\n",
    "plt.plot(day_pred,scaler.inverse_transform(lst_output))"
   ]
  }
 ],
 "metadata": {
  "kernelspec": {
   "display_name": "Python 3 (ipykernel)",
   "language": "python",
   "name": "python3"
  },
  "language_info": {
   "codemirror_mode": {
    "name": "ipython",
    "version": 3
   },
   "file_extension": ".py",
   "mimetype": "text/x-python",
   "name": "python",
   "nbconvert_exporter": "python",
   "pygments_lexer": "ipython3",
   "version": "3.10.5"
  }
 },
 "nbformat": 4,
 "nbformat_minor": 5
}
