{
 "cells": [
  {
   "cell_type": "code",
   "execution_count": 1,
   "id": "028e48af",
   "metadata": {},
   "outputs": [],
   "source": [
    "import torch\n",
    "from torch import nn\n",
    "from torch.utils.data import DataLoader\n",
    "from torchvision import datasets\n",
    "from torchvision.transforms import ToTensor"
   ]
  },
  {
   "cell_type": "code",
   "execution_count": 2,
   "id": "a45d58fe",
   "metadata": {},
   "outputs": [],
   "source": [
    "training_data = datasets.FashionMNIST(\n",
    "    root='data',\n",
    "    train=True,\n",
    "    download=True,\n",
    "    transform=ToTensor(),\n",
    ")\n",
    "\n",
    "test_data = datasets.FashionMNIST(\n",
    "    root='data',\n",
    "    train=False,\n",
    "    download=True,\n",
    "    transform=ToTensor(),\n",
    ")"
   ]
  },
  {
   "cell_type": "code",
   "execution_count": 3,
   "id": "c7e0bd09",
   "metadata": {},
   "outputs": [
    {
     "name": "stdout",
     "output_type": "stream",
     "text": [
      "shape of [N, C, H, W]: torch.Size([64, 1, 28, 28])\n",
      "shape of y: torch.Size([64]) torch.int64\n"
     ]
    }
   ],
   "source": [
    "batch_size = 64\n",
    "\n",
    "train_dataloader = DataLoader(training_data, batch_size=batch_size)\n",
    "test_dataloader = DataLoader(test_data, batch_size=batch_size)\n",
    "\n",
    "for X, y in test_dataloader:\n",
    "    print(f'shape of [N, C, H, W]: {X.shape}')\n",
    "    print(f'shape of y: {y.shape} {y.dtype}')\n",
    "    break"
   ]
  },
  {
   "cell_type": "code",
   "execution_count": 4,
   "id": "706ba940",
   "metadata": {},
   "outputs": [
    {
     "name": "stdout",
     "output_type": "stream",
     "text": [
      "NeuralNetwrok(\n",
      "  (Flatten): Flatten(start_dim=1, end_dim=-1)\n",
      "  (linear_relu_stack): Sequential(\n",
      "    (0): Linear(in_features=784, out_features=512, bias=True)\n",
      "    (1): ReLU()\n",
      "    (2): Linear(in_features=512, out_features=512, bias=True)\n",
      "    (3): ReLU()\n",
      "    (4): Linear(in_features=512, out_features=10, bias=True)\n",
      "  )\n",
      ")\n"
     ]
    }
   ],
   "source": [
    "class NeuralNetwrok(nn.Module):\n",
    "    def __init__(self):\n",
    "        super().__init__()\n",
    "        self.Flatten = nn.Flatten()\n",
    "        self.linear_relu_stack = nn.Sequential(\n",
    "            nn.Linear(28*28, 512),\n",
    "            nn.ReLU(),\n",
    "            nn.Linear(512, 512),\n",
    "            nn.ReLU(),\n",
    "            nn.Linear(512, 10)\n",
    "        )\n",
    "    def forward(self, x):\n",
    "        x = self.Flatten(x)\n",
    "        logits = self.linear_relu_stack(x)\n",
    "        return logits\n",
    "    \n",
    "model = NeuralNetwrok()\n",
    "print(model)"
   ]
  },
  {
   "cell_type": "markdown",
   "id": "2744fa30",
   "metadata": {},
   "source": [
    "## Optimizing the Model Parameters "
   ]
  },
  {
   "cell_type": "code",
   "execution_count": 9,
   "id": "e2192e37",
   "metadata": {},
   "outputs": [],
   "source": [
    "loss_fn = nn.CrossEntropyLoss()\n",
    "optimizer = torch.optim.SGD(model.parameters(), lr=1e-3)"
   ]
  },
  {
   "cell_type": "code",
   "execution_count": 10,
   "id": "56f1cd3e",
   "metadata": {},
   "outputs": [],
   "source": [
    "def train(dataloader, model, loss, optimizer):\n",
    "    size = len(dataloader.dataset)\n",
    "    model.train()\n",
    "    for batch, (X,y) in enumerate(dataloader):\n",
    "        pred = model(X)\n",
    "        loss = loss_fn(pred, y)\n",
    "        \n",
    "        #backpropagation\n",
    "        optimizer.zero_grad() \n",
    "        loss.backward()\n",
    "        optimizer.step()\n",
    "        \n",
    "        if batch % 100 == 0:\n",
    "            loss, current = loss.item(), (batch + 1) * len(X)\n",
    "            print(f'loss: {loss:>7f} [{current:>5d}/{size:>5d}]')"
   ]
  },
  {
   "cell_type": "code",
   "execution_count": 11,
   "id": "00dbc249",
   "metadata": {},
   "outputs": [],
   "source": [
    "def test(dataloader, model, loss_fn):\n",
    "    size = len(dataloader.dataset)\n",
    "    num_batches = len(dataloader)\n",
    "    model.eval()\n",
    "    test_loss, correct = 0,0\n",
    "    with torch.no_grad():\n",
    "        for X,y in dataloader:\n",
    "            pred = model(X)\n",
    "            test_loss +=loss_fn(pred, y).item()\n",
    "            correct += (pred.argmax(1) == y).type(torch.float).sum().item()\n",
    "    test_loss /= num_batches\n",
    "    correct /= size\n",
    "    print(f\"Test Error: \\n Accuracy: {(100*correct):>0.1f}%, Avg loss: {test_loss:>8f} \\n\")"
   ]
  },
  {
   "cell_type": "code",
   "execution_count": 13,
   "id": "f374527b",
   "metadata": {},
   "outputs": [
    {
     "name": "stdout",
     "output_type": "stream",
     "text": [
      "epochs1\n",
      "---------------\n",
      "loss: 2.152083 [   64/60000]\n",
      "loss: 2.142770 [ 6464/60000]\n",
      "loss: 2.091428 [12864/60000]\n",
      "loss: 2.109464 [19264/60000]\n",
      "loss: 2.054350 [25664/60000]\n",
      "loss: 1.999815 [32064/60000]\n",
      "loss: 2.030669 [38464/60000]\n",
      "loss: 1.945867 [44864/60000]\n",
      "loss: 1.950991 [51264/60000]\n",
      "loss: 1.888984 [57664/60000]\n",
      "Test Error: \n",
      " Accuracy: 58.2%, Avg loss: 1.880607 \n",
      "\n",
      "epochs2\n",
      "---------------\n",
      "loss: 1.911286 [   64/60000]\n",
      "loss: 1.881920 [ 6464/60000]\n",
      "loss: 1.770841 [12864/60000]\n",
      "loss: 1.805018 [19264/60000]\n",
      "loss: 1.705766 [25664/60000]\n",
      "loss: 1.658813 [32064/60000]\n",
      "loss: 1.682053 [38464/60000]\n",
      "loss: 1.578748 [44864/60000]\n",
      "loss: 1.604106 [51264/60000]\n",
      "loss: 1.504313 [57664/60000]\n",
      "Test Error: \n",
      " Accuracy: 60.1%, Avg loss: 1.520931 \n",
      "\n",
      "epochs3\n",
      "---------------\n",
      "loss: 1.586858 [   64/60000]\n",
      "loss: 1.553994 [ 6464/60000]\n",
      "loss: 1.408351 [12864/60000]\n",
      "loss: 1.469296 [19264/60000]\n",
      "loss: 1.365981 [25664/60000]\n",
      "loss: 1.357671 [32064/60000]\n",
      "loss: 1.372416 [38464/60000]\n",
      "loss: 1.291969 [44864/60000]\n",
      "loss: 1.328145 [51264/60000]\n",
      "loss: 1.228252 [57664/60000]\n",
      "Test Error: \n",
      " Accuracy: 62.8%, Avg loss: 1.257898 \n",
      "\n",
      "epochs4\n",
      "---------------\n",
      "loss: 1.333260 [   64/60000]\n",
      "loss: 1.318403 [ 6464/60000]\n",
      "loss: 1.155803 [12864/60000]\n",
      "loss: 1.249914 [19264/60000]\n",
      "loss: 1.140889 [25664/60000]\n",
      "loss: 1.160122 [32064/60000]\n",
      "loss: 1.179237 [38464/60000]\n",
      "loss: 1.111734 [44864/60000]\n",
      "loss: 1.152918 [51264/60000]\n",
      "loss: 1.065967 [57664/60000]\n",
      "Test Error: \n",
      " Accuracy: 64.6%, Avg loss: 1.092618 \n",
      "\n",
      "epochs5\n",
      "---------------\n",
      "loss: 1.161299 [   64/60000]\n",
      "loss: 1.168203 [ 6464/60000]\n",
      "loss: 0.987493 [12864/60000]\n",
      "loss: 1.112425 [19264/60000]\n",
      "loss: 1.000844 [25664/60000]\n",
      "loss: 1.026140 [32064/60000]\n",
      "loss: 1.058963 [38464/60000]\n",
      "loss: 0.996182 [44864/60000]\n",
      "loss: 1.037611 [51264/60000]\n",
      "loss: 0.964752 [57664/60000]\n",
      "Test Error: \n",
      " Accuracy: 66.4%, Avg loss: 0.984995 \n",
      "\n",
      "Done..\n"
     ]
    }
   ],
   "source": [
    "epochs=5\n",
    "for t in range(epochs):\n",
    "    print(f'epochs{t+1}\\n---------------')\n",
    "    train(train_dataloader, model, loss_fn, optimizer)\n",
    "    test(test_dataloader, model, loss_fn)\n",
    "print(\"Done..\")"
   ]
  },
  {
   "cell_type": "code",
   "execution_count": 14,
   "id": "2f356d70",
   "metadata": {},
   "outputs": [
    {
     "name": "stdout",
     "output_type": "stream",
     "text": [
      "Saved PyTorch Model State to model.pth\n"
     ]
    }
   ],
   "source": [
    "# saving model\n",
    "torch.save(model.state_dict(), 'model.pth')\n",
    "print(\"Saved PyTorch Model State to model.pth\")"
   ]
  },
  {
   "cell_type": "code",
   "execution_count": 16,
   "id": "09d9156a",
   "metadata": {},
   "outputs": [
    {
     "data": {
      "text/plain": [
       "<All keys matched successfully>"
      ]
     },
     "execution_count": 16,
     "metadata": {},
     "output_type": "execute_result"
    }
   ],
   "source": [
    "model = NeuralNetwrok()\n",
    "model.load_state_dict(torch.load('model.pth'))"
   ]
  },
  {
   "cell_type": "code",
   "execution_count": 17,
   "id": "4f20200c",
   "metadata": {},
   "outputs": [],
   "source": [
    "classes = [\n",
    "    \"T-shirt/top\",\n",
    "    \"Trouser\",\n",
    "    \"Pullover\",\n",
    "    \"Dress\",\n",
    "    \"Coat\",\n",
    "    \"Sandal\",\n",
    "    \"Shirt\",\n",
    "    \"Sneaker\",\n",
    "    \"Bag\",\n",
    "    \"Ankle boot\",\n",
    "]"
   ]
  },
  {
   "cell_type": "code",
   "execution_count": 30,
   "id": "de68e6cf",
   "metadata": {},
   "outputs": [
    {
     "name": "stdout",
     "output_type": "stream",
     "text": [
      "Predicted: \"Ankle boot\", Actual: \"Ankle boot\"\n"
     ]
    }
   ],
   "source": [
    "model.eval()\n",
    "x, y = test_data[0][0], test_data[0][1]\n",
    "with torch.no_grad():\n",
    "    pred = model(x)\n",
    "    predicted, actual = classes[pred[0].argmax(0)],classes[y]\n",
    "    print(f'Predicted: \"{predicted}\", Actual: \"{actual}\"')"
   ]
  },
  {
   "cell_type": "code",
   "execution_count": null,
   "id": "fc044c21",
   "metadata": {},
   "outputs": [],
   "source": []
  },
  {
   "cell_type": "code",
   "execution_count": null,
   "id": "344edfca",
   "metadata": {},
   "outputs": [],
   "source": []
  }
 ],
 "metadata": {
  "kernelspec": {
   "display_name": "Python 3 (ipykernel)",
   "language": "python",
   "name": "python3"
  },
  "language_info": {
   "codemirror_mode": {
    "name": "ipython",
    "version": 3
   },
   "file_extension": ".py",
   "mimetype": "text/x-python",
   "name": "python",
   "nbconvert_exporter": "python",
   "pygments_lexer": "ipython3",
   "version": "3.10.9"
  }
 },
 "nbformat": 4,
 "nbformat_minor": 5
}
